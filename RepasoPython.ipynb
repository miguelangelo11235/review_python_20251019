{
  "nbformat": 4,
  "nbformat_minor": 0,
  "metadata": {
    "colab": {
      "private_outputs": true,
      "provenance": [],
      "authorship_tag": "ABX9TyOpdkd4MPmmNa+pRDXbPMgo",
      "include_colab_link": true
    },
    "kernelspec": {
      "name": "python3",
      "display_name": "Python 3"
    },
    "language_info": {
      "name": "python"
    }
  },
  "cells": [
    {
      "cell_type": "markdown",
      "metadata": {
        "id": "view-in-github",
        "colab_type": "text"
      },
      "source": [
        "<a href=\"https://colab.research.google.com/github/miguelangelo11235/review_python_20251019/blob/main/RepasoPython.ipynb\" target=\"_parent\"><img src=\"https://colab.research.google.com/assets/colab-badge.svg\" alt=\"Open In Colab\"/></a>"
      ]
    },
    {
      "cell_type": "markdown",
      "source": [
        "# Repaso Python\n",
        "\n",
        "## Fundamentos de Programación\n",
        "\n",
        "**Profesor:** *Miguel Angel Ortiz*"
      ],
      "metadata": {
        "id": "aOW-dojmEgTO"
      }
    },
    {
      "cell_type": "code",
      "execution_count": null,
      "metadata": {
        "id": "YuqQMpb3EDTy"
      },
      "outputs": [],
      "source": [
        "# Sintaxis\n",
        "\n",
        "print(\"Hola mundo!\") # Saludo\n",
        "\n",
        "print('A')\n",
        "\n",
        "print(\"Ayer comí disque una \\\"empanada\\\"\")\n",
        "print('Please, don\\'t go')\n",
        "print(\"\\nEste es un salto de línea\")\n",
        "print(\"\\tEsta es una tabulación\")\n",
        "# print(\"Miguel\")\n",
        "\n",
        "# Comentarios aparecen después de un numeral o hashtag (#)"
      ]
    },
    {
      "cell_type": "code",
      "source": [
        "# Variables\n",
        "\n",
        "# a = 5\n",
        "# b = 5\n",
        "# print(a)\n",
        "# print(b)\n",
        "# b = b + 2\n",
        "# print(b)\n",
        "# print(a)\n",
        "# b = b + 4\n",
        "# print(b)\n",
        "# print(a)\n",
        "\n",
        "# Constantes\n",
        "\n",
        "# PI = 3.141592\n",
        "# pi = 3.141592\n",
        "# print(PI == pi)\n",
        "# print(PI is pi)\n",
        "\n",
        "# f-string\n",
        "name = \"Miguel\"\n",
        "age = 34\n",
        "# print(\"Hola\", name, \"tienes\", age, \"años\")\n",
        "# print(f\"Hola {name} tienes {age} años\") # siempre se coloca la f antes del texto en comillas (\"\")\n",
        "\n",
        "usd_to_cop = 3856.23354\n",
        "money = 15\n",
        "money_in_cop = round(usd_to_cop * money, 3)\n",
        "print(f\"Cantidad en dólares: ${money:.2f}\")\n",
        "print(f\"Cantidad en pesos: ${money_in_cop:,.2f}\")\n",
        "print(money_in_cop)"
      ],
      "metadata": {
        "id": "BtxbVo8ME2y9"
      },
      "execution_count": null,
      "outputs": []
    },
    {
      "cell_type": "code",
      "source": [
        "# Conversión de temperaturas\n",
        "\n",
        "CELSIUS_TO_FAHRENHEIT = 5 / 9\n",
        "FAHRENHEIT_TO_CELIUS = 1 / CELSIUS_TO_FAHRENHEIT\n",
        "\n",
        "celsius = 25\n",
        "fahrenheit = celsius * CELSIUS_TO_FAHRENHEIT + 32\n",
        "print(f\"Temperatura en Celsius: {celsius:.1f}°C\")\n",
        "print(f\"Temperatura en Fahrenheit: {fahrenheit:.1f}°F\")\n",
        "print(\"-\" * 30)\n",
        "\n",
        "fahrenheit = 60\n",
        "celsius = (fahrenheit - 32) * FAHRENHEIT_TO_CELIUS\n",
        "print(f\"Temperatura en Fahrenheit: {fahrenheit:.1f}°F\")\n",
        "print(f\"Temperatura en Celsius: {celsius:.1f}°C\")"
      ],
      "metadata": {
        "id": "TaisOuQeIxzt"
      },
      "execution_count": null,
      "outputs": []
    },
    {
      "cell_type": "code",
      "source": [
        "# Conversión de unidades de longitud\n",
        "\n",
        "PULGADAS_TO_CENTÍMETROS = 2.54\n",
        "CENTIMETROS_TO_PULGADAS = 1/PULGADAS_TO_CENTÍMETROS\n",
        "\n",
        "cm_1 = 5\n",
        "cm_2 = 10 # snake_case\n",
        "\n",
        "# camelCase\n",
        "# PascalCase\n",
        "\n",
        "centímetros = 25\n",
        "pulgadas = centímetros * CENTIMETROS_TO_PULGADAS\n",
        "print(f\"Medida en centímetros: {centímetros:.2f}\")\n",
        "print(f\"Medida en pulgadas: {pulgadas:.2f}\")\n",
        "print(\"-\"*50)\n",
        "\n",
        "pulgadas = 100\n",
        "centímetros = pulgadas * PULGADAS_TO_CENTÍMETROS\n",
        "print(f\"Medida en pulgadas:{pulgadas:.2f}\")\n",
        "print(f\"Medida en centímetros:{centímetros:.2f}\")"
      ],
      "metadata": {
        "id": "0WvjQTNJM3x8"
      },
      "execution_count": null,
      "outputs": []
    },
    {
      "cell_type": "code",
      "source": [
        "# Data Types\n",
        "\n",
        "# Integers\n",
        "a: int = 1 # Type annotations\n",
        "b: int = 2\n",
        "c: int  = 3\n",
        "\n",
        "# Floats\n",
        "cm: float = 25.6\n",
        "height: float = 178.2\n",
        "temp: float = 34.2\n",
        "\n",
        "# Strings\n",
        "name: str = \"Miguel\"\n",
        "greet: str = \"Hello\"\n",
        "city: str = \"Monteria\"\n",
        "\n",
        "print(type(a))\n",
        "print(type(cm))\n",
        "print(type(city))\n",
        "\n",
        "# Python es dinámicamente tipado\n",
        "cm = \"casa\"\n",
        "print(type(cm))\n",
        "\n",
        "# Data conversion\n",
        "d = 5.26\n",
        "e = 5\n",
        "f = \"Z\"\n",
        "print(int(d))\n",
        "print(float(e))\n",
        "# print(int(f))"
      ],
      "metadata": {
        "id": "vuV5wRSDQfYy"
      },
      "execution_count": null,
      "outputs": []
    },
    {
      "cell_type": "code",
      "source": [
        "# Boolean\n",
        "is_connected: bool = True\n",
        "is_hungry: bool = False\n",
        "print(is_connected)\n",
        "print(is_hungry)\n",
        "\n",
        "print(True + True)\n",
        "print(False  + False)\n",
        "print(int(True))\n",
        "\n",
        "\n",
        "# Strings (multiline)\n",
        "\n",
        "name = \"Miguel\" \"Ortiz\" # Concatenación implícita\n",
        "first_name = \"Miguel\"\n",
        "last_name = \"Ortiz\"\n",
        "full_name = first_name + \" \" + last_name # Concatenación\n",
        "song = f\"\"\"\n",
        "Son by Four is a Latin music group from Puerto Rico,\n",
        "well known for their English US pop hit\n",
        "\"The Purest of Pain (A Puro Dolor)\" {full_name}.\n",
        "\"\"\"\n",
        "print(song)\n",
        "\n",
        "# print(\"Texto\" + 1)\n",
        "print(type(2.45 + 3))\n",
        "\n",
        "a = 0.2\n",
        "b = 0.3\n",
        "c = a + b\n",
        "h = 1.0\n",
        "print(round(a + b, 1) == 0.5)"
      ],
      "metadata": {
        "id": "VgKBshRZSJzj"
      },
      "execution_count": null,
      "outputs": []
    },
    {
      "cell_type": "code",
      "source": [
        "# Calculadora de Impuestos\n",
        "\n",
        "name = input(\"Ingrese su nombre: \")\n",
        "income: float = float(input(\"Digite sus ingresos: \"))\n",
        "tax_rate: float = float(input(\"Ingrese la tasa de impuestos en porcentaje: \"))\n",
        "tax: float = income * tax_rate / 100\n",
        "\n",
        "print(\"=\" * 20)\n",
        "print(f\"Hola, {name}\")\n",
        "print(f\"Ingresos: ${income:.1f}\")\n",
        "print(f\"Tasa de impuestos: {tax_rate/100:.1%}\")\n",
        "print(f\"Impuesto a pagar: ${tax:.2f}\")\n",
        "print(\"=\" * 20)"
      ],
      "metadata": {
        "id": "eMd818I-Tgo3"
      },
      "execution_count": null,
      "outputs": []
    },
    {
      "cell_type": "code",
      "source": [
        "# CALCULADORA DE IMPUESTOS\n",
        "\n",
        "name: str = input(\"ingrese su nombre\")\n",
        "valor_cuenta: float = float(input(\"ingrese el valor de su cuenta:\"))\n",
        "tax_propina: float = float(input(\"Ingrese el porcentaje de propina: \"))\n",
        "valor_propina: float = valor_cuenta * tax_propina/100\n",
        "\n",
        "print(\"-\" * 50)\n",
        "print(f\"Hola: {name}\")\n",
        "print(f\"Valor de la cuenta: ${valor_cuenta:,.1f}\")\n",
        "print(f\"Tasa de propina: {tax_propina/100:.1%}\")\n",
        "print(f\"Propina a pagar: ${valor_propina:,.1f}\")\n",
        "print(\"-\" * 50)"
      ],
      "metadata": {
        "id": "SQlnlfjiWNfS"
      },
      "execution_count": null,
      "outputs": []
    },
    {
      "cell_type": "code",
      "source": [
        "# Collections\n",
        "\n",
        "# Lists\n",
        "\n",
        "# people: list[str] = [\"Jimena\", \"Santiago\", \"Juan Pablo\"]\n",
        "# print(people)\n",
        "# print(people[0])\n",
        "# print(people[-1])\n",
        "# print(people[1])\n",
        "\n",
        "# a_list = [1, 2.54, True, \"Message\", [1, 2, 3]]\n",
        "# print(a_list)\n",
        "\n",
        "numbers: list[int] = [1, 2, 3, 4, 5]\n",
        "print(numbers)\n",
        "# Agregar\n",
        "numbers.append(6)\n",
        "print(numbers)\n",
        "# Extender lista\n",
        "numbers_2: list[int] = [7, 8, 9]\n",
        "# numbers = numbers + numbers_2\n",
        "numbers.extend(numbers_2)\n",
        "numbers.append(5)\n",
        "print(numbers)\n",
        "\n",
        "numbers.remove(5)\n",
        "# numbers.remove(10)\n",
        "print(numbers)\n",
        "\n",
        "numbers.pop()\n",
        "print(numbers)\n",
        "\n",
        "popped = numbers.pop(3)\n",
        "print(numbers)\n",
        "print(popped)\n",
        "\n",
        "numbers.insert(3, 100)\n",
        "print(numbers)"
      ],
      "metadata": {
        "id": "gqoA7sq5atQl"
      },
      "execution_count": null,
      "outputs": []
    },
    {
      "cell_type": "code",
      "source": [
        "matrix_A = [[1, 2, 3], [4, 5, 6], [7, 8, 9]]\n",
        "print(matrix_A)"
      ],
      "metadata": {
        "id": "oDj-LE3D5Ocw"
      },
      "execution_count": null,
      "outputs": []
    },
    {
      "cell_type": "code",
      "source": [
        "empty_list: list[str] = []\n",
        "empty_list.insert(100, 1)\n",
        "empty_list.insert(20, 2)\n",
        "empty_list.insert(0, 0)\n",
        "empty_list.insert(1, 5)\n",
        "print(empty_list)\n",
        "\n",
        "empty_list[0] = 100\n",
        "print(len(empty_list))"
      ],
      "metadata": {
        "id": "twbi3UUR7cxQ"
      },
      "execution_count": null,
      "outputs": []
    },
    {
      "cell_type": "code",
      "source": [
        "# Tuples\n",
        "my_tuple: tuple[int, ...] = 4, 7, 9, 11, 23, 54\n",
        "print(my_tuple)\n",
        "\n",
        "point_1: tuple[int, int] = (1, 2)\n",
        "point_2: tuple[int, int] = (-1, 0)\n",
        "point_1 = (2, 4)\n",
        "print(point_1)\n",
        "# point_1[0] = 5\n",
        "\n",
        "# Longitud/tamaño de una colección\n",
        "print(len(my_tuple))"
      ],
      "metadata": {
        "id": "1FZFGO8f8R4P"
      },
      "execution_count": null,
      "outputs": []
    },
    {
      "cell_type": "code",
      "source": [
        "# Set\n",
        "my_set: set[int] = {1, 2, 3, 4, 4, 3, 5, 4}\n",
        "print(my_set)"
      ],
      "metadata": {
        "id": "wgFLEU4T93kH"
      },
      "execution_count": null,
      "outputs": []
    },
    {
      "cell_type": "code",
      "source": [
        "# Dictionary\n",
        "# Conjuntos llave:valor (key:value)\n",
        "people_age: dict[str, int] = {\"Pedro\": 35, \"Pablo\": 32}\n",
        "# print(people_age.keys())\n",
        "# print(people_age.values())\n",
        "# print(people_age.items())\n",
        "print(people_age.get(\"Pedro\"))\n",
        "print(people_age.get(\"Miguel\"))\n",
        "print(people_age[\"Pablo\"])"
      ],
      "metadata": {
        "id": "NA4DBBEX_AbE"
      },
      "execution_count": null,
      "outputs": []
    },
    {
      "cell_type": "code",
      "source": [
        "# Operations\n",
        "\n",
        "# Aritmética: +, -, *, /, % (modulo), //\n",
        "\n",
        "a = 9\n",
        "b = 2\n",
        "# print(a + b)\n",
        "# print(a - b)\n",
        "# print(a * b)\n",
        "# print(a / b)\n",
        "\n",
        "# print(a % b == 0)\n",
        "# print(a // b) # Redondea hacia abajo\n",
        "\n",
        "# import math\n",
        "# from math import sqrt, pi, sin\n",
        "# c = 16\n",
        "# print(sqrt(c))\n",
        "# print(abs(-2))\n",
        "# print(sin(2 * pi))\n",
        "\n",
        "# print(pi)\n",
        "\n",
        "# Potencia\n",
        "a = 100\n",
        "print(a ** 2) # 10^2\n",
        "print(a ** 3) # a^3\n",
        "print(a ** (1/2))"
      ],
      "metadata": {
        "id": "aU5e-k0Z_6dI"
      },
      "execution_count": null,
      "outputs": []
    },
    {
      "cell_type": "code",
      "source": [
        "# Operadores de asignación\n",
        "\n",
        "a = 5 # El '=' Operador de asignación\n",
        "a = a + 3\n",
        "print(a)\n",
        "\n",
        "a += 5\n",
        "a -= 10\n",
        "a *= 2\n",
        "a /= 3\n",
        "a **= 2\n",
        "print(a)"
      ],
      "metadata": {
        "id": "2WoBfbqXA2gI"
      },
      "execution_count": null,
      "outputs": []
    },
    {
      "cell_type": "code",
      "source": [
        "# Comparison operators\n",
        "\n",
        "a = 5\n",
        "b = 7\n",
        "print(a == b) # Igualdad\n",
        "print(a > b)\n",
        "print(a < b)\n",
        "print(a >= b)\n",
        "print(a <= b)\n",
        "print(a != b) # Diferencia\n",
        "\n",
        "list_a = [1, 2, 3]\n",
        "list_b = [1, 2, 3]\n",
        "print(list_a == list_b)"
      ],
      "metadata": {
        "id": "Dl6qelTBDSXK"
      },
      "execution_count": null,
      "outputs": []
    },
    {
      "cell_type": "code",
      "source": [
        "# Operadores lógicos\n",
        "# And -> Solamente cierto si ambas premisas son ciertas\n",
        "a = 1\n",
        "b = 3\n",
        "print(a == b and b >= 3)\n",
        "# Or -> Solamente falso si ambas premisas son falsas\n",
        "print(a == b or b >= 3)\n",
        "# Not -> Invierte\n",
        "print(not (a == b))"
      ],
      "metadata": {
        "id": "b1NYpGDID_Th"
      },
      "execution_count": null,
      "outputs": []
    },
    {
      "cell_type": "code",
      "source": [
        "# Identidad y membresí\n",
        "# Identidad: is\n",
        "a: list[int] = [1, 2, 3]\n",
        "b: list[int] = [1, 2, 3]\n",
        "# print(a == b)\n",
        "# print(a is b)\n",
        "\n",
        "# Membresía: in\n",
        "print(1 in a)\n",
        "print(10 in b)"
      ],
      "metadata": {
        "id": "jTA7XXLXE9rp"
      },
      "execution_count": null,
      "outputs": []
    },
    {
      "cell_type": "code",
      "source": [
        "# Control Flow\n",
        "\n",
        "# Conditionals\n",
        "\n",
        "age: int = 13\n",
        "# if -> condicional\n",
        "if age >= 18:\n",
        "  print(\"Es mayor de edad.\")\n",
        "  print(2 + 2)\n",
        "  print(\"hola\")\n",
        "else:\n",
        "  print(\"Lo siento, es menor de edad.\")\n",
        "print(\":)\")"
      ],
      "metadata": {
        "id": "pmJIHw7lFfYn"
      },
      "execution_count": null,
      "outputs": []
    },
    {
      "cell_type": "code",
      "source": [
        "# Elif\n",
        "\n",
        "num: int = int(input(\"Ingresa un número del 1 al 10: \"))\n",
        "if num > 8:\n",
        "  print(\"El número es mayor a 8\")\n",
        "elif num > 5:\n",
        "  print(\"El número está entre 5 y 8\")\n",
        "elif num >= 0:\n",
        "  print(\"El número es menor o igual a 5\")\n",
        "else:\n",
        "  print(\"No es un número válido\")"
      ],
      "metadata": {
        "id": "MRZwDvR4Gbt0"
      },
      "execution_count": null,
      "outputs": []
    },
    {
      "cell_type": "code",
      "source": [
        "name = input(\"Escribe tu nombre: \")\n",
        "print(\"Tu nombre comienza con M\" if name[0] == \"m\" else \"Tu nombre No comienza con M\")"
      ],
      "metadata": {
        "id": "0u3DQpTkHnHQ"
      },
      "execution_count": null,
      "outputs": []
    },
    {
      "cell_type": "code",
      "source": [
        "# Cara o sello\n",
        "import random\n",
        "symbols: dict[str, str] = {'cara': '🪙', 'sello': '💵'}\n",
        "\n",
        "player_choice: str = input(\"Ingrese cara o sello: \").strip().lower()\n",
        "computer_choice: str = random.choice(tuple(symbols))\n",
        "print(f\"Jugador: {symbols[player_choice]}\")\n",
        "print(f\"Computador: {symbols[computer_choice]}\")\n",
        "\n",
        "if player_choice == computer_choice:\n",
        "  print(\"Ganaste! :)\")\n",
        "else:\n",
        "  print(\"Perdiste! :(\")"
      ],
      "metadata": {
        "id": "RYekQodaIW4d"
      },
      "execution_count": null,
      "outputs": []
    },
    {
      "cell_type": "code",
      "source": [
        "# Loops\n",
        "\n",
        "people: list[str] = [\"Roberto\", \"Camilo\", \"Ernesto\", \"Juliana\", \"Isabella\"]\n",
        "\n",
        "# Ciclo determinado\n",
        "for person in people:\n",
        "  print(f\"Hello {person}!\")\n",
        "\n",
        "# print(person)\n",
        "\n",
        "for i in range(len(people)):\n",
        "  print(f\"{i + 1}. {people[i]}\")"
      ],
      "metadata": {
        "id": "iALe5FFIJVjW"
      },
      "execution_count": null,
      "outputs": []
    },
    {
      "cell_type": "code",
      "source": [
        "grades: list[float] = [3.5, 4.2, 3.7, 4.5, 1.2, 3.5, 4.6, 2.8]\n",
        "total: float = 0\n",
        "for grade in grades:\n",
        "  total += grade\n",
        "num_grades = len(grades)\n",
        "\n",
        "average = total / num_grades\n",
        "print(f\"Número de notas: {num_grades}\")\n",
        "print(f\"Promedio: {average:.2f}\")\n"
      ],
      "metadata": {
        "id": "WFCxElqyKXDk"
      },
      "execution_count": null,
      "outputs": []
    },
    {
      "cell_type": "code",
      "source": [
        "grades: list[float] = [3.5, 4.2, 3.7, 4.5, 1.2, 3.5, 4.6, 2.8]\n",
        "total: float = 0\n",
        "\n",
        "for i in range(len(grades)):\n",
        "  print(f\"Nota {i + 1}: {grades[i]}\")\n",
        "  total += grades[i]\n",
        "print(\"=\" * 15)\n",
        "print(f\"Promedio: {total / len(grades):.2f}\")"
      ],
      "metadata": {
        "id": "W4DZt_kFLie_"
      },
      "execution_count": null,
      "outputs": []
    },
    {
      "cell_type": "code",
      "source": [
        "range_1 = range(len(grades))\n",
        "print(list(range_1))\n",
        "range_2 = range(-2, 10, 3)\n",
        "print(list(range_2))"
      ],
      "metadata": {
        "id": "ds0yQihxMtGe"
      },
      "execution_count": null,
      "outputs": []
    },
    {
      "cell_type": "code",
      "source": [
        "matrix = [[1, 2, 3], [4, 5, 6], [7, 8, 9]]\n",
        "rows = []\n",
        "for row in matrix:\n",
        "  row_sum = 0\n",
        "  for element in row:\n",
        "    row_sum += element\n",
        "  rows.append(row_sum)\n",
        "\n",
        "print(rows)\n",
        ""
      ],
      "metadata": {
        "id": "D5Lr6FmjMx_U"
      },
      "execution_count": null,
      "outputs": []
    },
    {
      "cell_type": "code",
      "source": [
        "matrix = [[1, 2, 3], [4, 5, 6], [7, 8, 9]]\n",
        "cols = []\n",
        "for col in range(len(matrix[0])):\n",
        "  col_sum = 0\n",
        "  for row in matrix:\n",
        "    col_sum += row[col]\n",
        "  cols.append(col_sum)\n",
        "\n",
        "print(cols)"
      ],
      "metadata": {
        "id": "4kBKD1QGNy8f"
      },
      "execution_count": null,
      "outputs": []
    },
    {
      "cell_type": "code",
      "source": [
        "rows: int = int(input(\"¿Cuántas filas? \"))\n",
        "cols: int = int(input(\"¿Cuántas collumnas? \"))\n",
        "\n",
        "print(f\"Matriz de {rows}x{cols}\")\n",
        "\n",
        "matrix: list[list] = []\n",
        "\n",
        "for i in range(rows):\n",
        "  row = []\n",
        "  for j in range(cols):\n",
        "    num = int(input(f\"Ingrese el valor en la posición {i},{j}:\"))\n",
        "    row.append(num)\n",
        "  matrix.append(row)\n",
        "\n",
        "print(\"Matriz: \")\n",
        "for row in matrix:\n",
        "  for col in row:\n",
        "    print(col, end=' ')\n",
        "  print()"
      ],
      "metadata": {
        "id": "16uJkJ1zQ52K"
      },
      "execution_count": null,
      "outputs": []
    },
    {
      "cell_type": "code",
      "source": [],
      "metadata": {
        "id": "C9Ifrf7ISWuI"
      },
      "execution_count": null,
      "outputs": []
    }
  ]
}